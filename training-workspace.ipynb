{
 "cells": [
  {
   "cell_type": "markdown",
   "id": "346396b7",
   "metadata": {},
   "source": [
    "## Setup env"
   ]
  },
  {
   "cell_type": "code",
   "execution_count": 19,
   "id": "d9022c39",
   "metadata": {},
   "outputs": [
    {
     "name": "stdout",
     "output_type": "stream",
     "text": [
      "C:\\Users\\user\\PycharmProjects\\object-detection-yolov5\n"
     ]
    }
   ],
   "source": [
    "%cd .."
   ]
  },
  {
   "cell_type": "code",
   "execution_count": 26,
   "id": "f3a0cfe0",
   "metadata": {
    "scrolled": true
   },
   "outputs": [
    {
     "name": "stdout",
     "output_type": "stream",
     "text": [
      "Looking in indexes: https://pypi.org/simple, https://pypi.ngc.nvidia.com"
     ]
    },
    {
     "name": "stderr",
     "output_type": "stream",
     "text": [
      "WARNING: Ignore distutils configs in setup.cfg due to encoding errors.\n",
      "  WARNING: Ignore distutils configs in setup.cfg due to encoding errors.\n",
      "  WARNING: Ignore distutils configs in setup.cfg due to encoding errors.\n",
      "  WARNING: Ignore distutils configs in setup.cfg due to encoding errors.\n",
      "  WARNING: Ignore distutils configs in setup.cfg due to encoding errors.\n",
      "  WARNING: Ignore distutils configs in setup.cfg due to encoding errors.\n",
      "  WARNING: Ignore distutils configs in setup.cfg due to encoding errors.\n",
      "WARNING: Ignore distutils configs in setup.cfg due to encoding errors.\n"
     ]
    },
    {
     "name": "stdout",
     "output_type": "stream",
     "text": [
      "\n",
      "Collecting tensorboard==2.10.0\n",
      "  Downloading tensorboard-2.10.0-py3-none-any.whl (5.9 MB)\n",
      "     ---------------------------------------- 5.9/5.9 MB 10.4 MB/s eta 0:00:00\n",
      "Collecting tensorboard-data-server<0.7.0,>=0.6.0\n",
      "  Downloading tensorboard_data_server-0.6.1-py3-none-any.whl (2.4 kB)\n",
      "Requirement already satisfied: markdown>=2.6.8 in c:\\users\\user\\anaconda3\\lib\\site-packages (from tensorboard==2.10.0) (3.3.4)\n",
      "Requirement already satisfied: numpy>=1.12.0 in c:\\users\\user\\anaconda3\\lib\\site-packages (from tensorboard==2.10.0) (1.21.5)\n",
      "Requirement already satisfied: tensorboard-plugin-wit>=1.6.0 in c:\\users\\user\\anaconda3\\lib\\site-packages (from tensorboard==2.10.0) (1.8.1)\n",
      "Requirement already satisfied: setuptools>=41.0.0 in c:\\users\\user\\anaconda3\\lib\\site-packages (from tensorboard==2.10.0) (61.2.0)\n",
      "Requirement already satisfied: wheel>=0.26 in c:\\users\\user\\anaconda3\\lib\\site-packages (from tensorboard==2.10.0) (0.37.1)\n",
      "Requirement already satisfied: requests<3,>=2.21.0 in c:\\users\\user\\anaconda3\\lib\\site-packages (from tensorboard==2.10.0) (2.27.1)\n",
      "Requirement already satisfied: werkzeug>=1.0.1 in c:\\users\\user\\anaconda3\\lib\\site-packages (from tensorboard==2.10.0) (2.0.3)\n",
      "Collecting google-auth-oauthlib<0.5,>=0.4.1\n",
      "  Downloading google_auth_oauthlib-0.4.6-py2.py3-none-any.whl (18 kB)\n",
      "Requirement already satisfied: protobuf<3.20,>=3.9.2 in c:\\users\\user\\anaconda3\\lib\\site-packages (from tensorboard==2.10.0) (3.19.1)\n",
      "Requirement already satisfied: google-auth<3,>=1.6.3 in c:\\users\\user\\anaconda3\\lib\\site-packages (from tensorboard==2.10.0) (1.33.0)\n",
      "Collecting absl-py>=0.4\n",
      "  Downloading absl_py-1.2.0-py3-none-any.whl (123 kB)\n",
      "     -------------------------------------- 123.4/123.4 kB 7.5 MB/s eta 0:00:00\n",
      "Requirement already satisfied: grpcio>=1.24.3 in c:\\users\\user\\anaconda3\\lib\\site-packages (from tensorboard==2.10.0) (1.42.0)\n",
      "Requirement already satisfied: rsa<5,>=3.1.4 in c:\\users\\user\\anaconda3\\lib\\site-packages (from google-auth<3,>=1.6.3->tensorboard==2.10.0) (4.7.2)\n",
      "Requirement already satisfied: six>=1.9.0 in c:\\users\\user\\anaconda3\\lib\\site-packages (from google-auth<3,>=1.6.3->tensorboard==2.10.0) (1.16.0)\n",
      "Requirement already satisfied: pyasn1-modules>=0.2.1 in c:\\users\\user\\anaconda3\\lib\\site-packages (from google-auth<3,>=1.6.3->tensorboard==2.10.0) (0.2.8)\n",
      "Requirement already satisfied: cachetools<5.0,>=2.0.0 in c:\\users\\user\\anaconda3\\lib\\site-packages (from google-auth<3,>=1.6.3->tensorboard==2.10.0) (4.2.2)\n",
      "Collecting requests-oauthlib>=0.7.0\n",
      "  Downloading requests_oauthlib-1.3.1-py2.py3-none-any.whl (23 kB)\n",
      "Requirement already satisfied: urllib3<1.27,>=1.21.1 in c:\\users\\user\\anaconda3\\lib\\site-packages (from requests<3,>=2.21.0->tensorboard==2.10.0) (1.26.9)\n",
      "Requirement already satisfied: charset-normalizer~=2.0.0 in c:\\users\\user\\anaconda3\\lib\\site-packages (from requests<3,>=2.21.0->tensorboard==2.10.0) (2.0.4)\n",
      "Requirement already satisfied: certifi>=2017.4.17 in c:\\users\\user\\anaconda3\\lib\\site-packages (from requests<3,>=2.21.0->tensorboard==2.10.0) (2021.10.8)\n",
      "Requirement already satisfied: idna<4,>=2.5 in c:\\users\\user\\anaconda3\\lib\\site-packages (from requests<3,>=2.21.0->tensorboard==2.10.0) (3.3)\n",
      "Requirement already satisfied: pyasn1<0.5.0,>=0.4.6 in c:\\users\\user\\anaconda3\\lib\\site-packages (from pyasn1-modules>=0.2.1->google-auth<3,>=1.6.3->tensorboard==2.10.0) (0.4.8)\n",
      "Collecting oauthlib>=3.0.0\n",
      "  Downloading oauthlib-3.2.1-py3-none-any.whl (151 kB)\n",
      "     ---------------------------------------- 151.7/151.7 kB ? eta 0:00:00\n",
      "Installing collected packages: tensorboard-data-server, oauthlib, absl-py, requests-oauthlib, google-auth-oauthlib, tensorboard\n",
      "Successfully installed absl-py-1.2.0 google-auth-oauthlib-0.4.6 oauthlib-3.2.1 requests-oauthlib-1.3.1 tensorboard-2.10.0 tensorboard-data-server-0.6.1\n"
     ]
    }
   ],
   "source": [
    "!pip install tensorboard==2.10.0"
   ]
  },
  {
   "cell_type": "code",
   "execution_count": 16,
   "id": "1b78ccb5",
   "metadata": {
    "scrolled": true
   },
   "outputs": [
    {
     "name": "stdout",
     "output_type": "stream",
     "text": [
      "Looking in indexes: https://pypi.org/simple, https://pypi.ngc.nvidia.com\n",
      "Collecting absl-py==1.2.0\n",
      "  Downloading absl_py-1.2.0-py3-none-any.whl (123 kB)\n",
      "     -------------------------------------- 123.4/123.4 kB 2.5 MB/s eta 0:00:00\n",
      "Collecting asttokens==2.0.8\n",
      "  Downloading asttokens-2.0.8-py2.py3-none-any.whl (23 kB)\n",
      "Requirement already satisfied: backcall==0.2.0 in c:\\users\\user\\anaconda3\\lib\\site-packages (from -r requirements3.txt (line 3)) (0.2.0)\n",
      "Requirement already satisfied: brotlipy==0.7.0 in c:\\users\\user\\anaconda3\\lib\\site-packages (from -r requirements3.txt (line 4)) (0.7.0)\n",
      "Collecting cachetools==5.2.0\n",
      "  Downloading cachetools-5.2.0-py3-none-any.whl (9.3 kB)\n",
      "Collecting charset-normalizer==2.1.1\n",
      "  Downloading charset_normalizer-2.1.1-py3-none-any.whl (39 kB)\n",
      "Collecting colorama==0.4.5\n",
      "  Downloading colorama-0.4.5-py2.py3-none-any.whl (16 kB)\n",
      "Collecting contourpy==1.0.5\n",
      "  Downloading contourpy-1.0.5-cp39-cp39-win_amd64.whl (161 kB)\n",
      "     -------------------------------------- 162.0/162.0 kB 4.9 MB/s eta 0:00:00\n",
      "Requirement already satisfied: cycler==0.11.0 in c:\\users\\user\\anaconda3\\lib\\site-packages (from -r requirements3.txt (line 9)) (0.11.0)\n",
      "Requirement already satisfied: decorator==5.1.1 in c:\\users\\user\\anaconda3\\lib\\site-packages (from -r requirements3.txt (line 10)) (5.1.1)\n",
      "Collecting dpcpp-cpp-rt==2022.1.0\n",
      "  Downloading dpcpp_cpp_rt-2022.1.0-py2.py3-none-win_amd64.whl (2.5 MB)\n",
      "     ---------------------------------------- 2.5/2.5 MB 11.4 MB/s eta 0:00:00\n",
      "Collecting executing==1.0.0\n",
      "  Downloading executing-1.0.0-py2.py3-none-any.whl (16 kB)\n",
      "Collecting fonttools==4.37.2\n",
      "  Downloading fonttools-4.37.2-py3-none-any.whl (959 kB)\n",
      "     ------------------------------------- 959.8/959.8 kB 10.2 MB/s eta 0:00:00\n",
      "Collecting google-auth==2.11.0\n",
      "  Downloading google_auth-2.11.0-py2.py3-none-any.whl (167 kB)\n",
      "     ------------------------------------- 167.2/167.2 kB 10.5 MB/s eta 0:00:00\n",
      "Collecting google-auth-oauthlib==0.4.6\n",
      "  Downloading google_auth_oauthlib-0.4.6-py2.py3-none-any.whl (18 kB)\n",
      "Collecting grpcio==1.49.0\n",
      "  Downloading grpcio-1.49.0-cp39-cp39-win_amd64.whl (3.6 MB)\n",
      "     ---------------------------------------- 3.6/3.6 MB 11.6 MB/s eta 0:00:00\n",
      "Collecting idna==3.4\n",
      "  Downloading idna-3.4-py3-none-any.whl (61 kB)\n",
      "     ---------------------------------------- 61.5/61.5 kB ? eta 0:00:00\n",
      "Collecting importlib-metadata==4.12.0\n",
      "  Downloading importlib_metadata-4.12.0-py3-none-any.whl (21 kB)\n",
      "Collecting intel-cmplr-lib-rt==2022.1.0\n",
      "  Downloading intel_cmplr_lib_rt-2022.1.0-py2.py3-none-win_amd64.whl (13.9 MB)\n",
      "     --------------------------------------- 13.9/13.9 MB 11.7 MB/s eta 0:00:00\n",
      "Collecting intel-cmplr-lic-rt==2022.1.0\n",
      "  Downloading intel_cmplr_lic_rt-2022.1.0-py2.py3-none-win_amd64.whl (46 kB)\n",
      "     ---------------------------------------- 46.3/46.3 kB ? eta 0:00:00\n",
      "Collecting intel-opencl-rt==2022.1.0\n",
      "  Downloading intel_opencl_rt-2022.1.0-py2.py3-none-win_amd64.whl (88.2 MB)\n",
      "     --------------------------------------- 88.2/88.2 MB 11.7 MB/s eta 0:00:00\n",
      "Collecting intel-openmp==2022.1.0\n",
      "  Downloading intel_openmp-2022.1.0-py2.py3-none-win_amd64.whl (4.1 MB)\n",
      "     ---------------------------------------- 4.1/4.1 MB 11.8 MB/s eta 0:00:00\n",
      "Collecting ipython==8.5.0\n",
      "  Downloading ipython-8.5.0-py3-none-any.whl (752 kB)\n",
      "     ------------------------------------- 752.0/752.0 kB 11.8 MB/s eta 0:00:00\n",
      "Requirement already satisfied: jedi==0.18.1 in c:\\users\\user\\anaconda3\\lib\\site-packages (from -r requirements3.txt (line 24)) (0.18.1)\n",
      "Collecting kiwisolver==1.4.4\n",
      "  Downloading kiwisolver-1.4.4-cp39-cp39-win_amd64.whl (55 kB)\n",
      "     ---------------------------------------- 55.4/55.4 kB ? eta 0:00:00\n",
      "Collecting Markdown==3.4.1"
     ]
    },
    {
     "name": "stderr",
     "output_type": "stream",
     "text": [
      "ERROR: Cannot uninstall 'TBB'. It is a distutils installed project and thus we cannot accurately determine which files belong to it which would lead to only a partial uninstall.\n"
     ]
    },
    {
     "name": "stdout",
     "output_type": "stream",
     "text": [
      "\n",
      "  Downloading Markdown-3.4.1-py3-none-any.whl (93 kB)\n",
      "     ---------------------------------------- 93.3/93.3 kB 5.5 MB/s eta 0:00:00\n",
      "Collecting MarkupSafe==2.1.1\n",
      "  Downloading MarkupSafe-2.1.1-cp39-cp39-win_amd64.whl (17 kB)\n",
      "Collecting matplotlib==3.6.0\n",
      "  Downloading matplotlib-3.6.0-cp39-cp39-win_amd64.whl (7.2 MB)\n",
      "     ---------------------------------------- 7.2/7.2 MB 11.0 MB/s eta 0:00:00\n",
      "Collecting matplotlib-inline==0.1.6\n",
      "  Downloading matplotlib_inline-0.1.6-py3-none-any.whl (9.4 kB)\n",
      "Collecting mkl==2022.1.0\n",
      "  Downloading mkl-2022.1.0-py2.py3-none-win_amd64.whl (229.8 MB)\n",
      "     ------------------------------------- 229.8/229.8 MB 11.7 MB/s eta 0:00:00\n",
      "Requirement already satisfied: mkl-fft==1.3.1 in c:\\users\\user\\anaconda3\\lib\\site-packages (from -r requirements3.txt (line 31)) (1.3.1)\n",
      "Requirement already satisfied: mkl-service==2.4.0 in c:\\users\\user\\anaconda3\\lib\\site-packages (from -r requirements3.txt (line 32)) (2.4.0)\n",
      "Collecting numpy==1.22.3\n",
      "  Downloading numpy-1.22.3-cp39-cp39-win_amd64.whl (14.7 MB)\n",
      "     --------------------------------------- 14.7/14.7 MB 11.5 MB/s eta 0:00:00\n",
      "Collecting oauthlib==3.2.1\n",
      "  Downloading oauthlib-3.2.1-py3-none-any.whl (151 kB)\n",
      "     -------------------------------------- 151.7/151.7 kB 8.8 MB/s eta 0:00:00\n",
      "Collecting opencv-python==4.6.0.66\n",
      "  Downloading opencv_python-4.6.0.66-cp36-abi3-win_amd64.whl (35.6 MB)\n",
      "     --------------------------------------- 35.6/35.6 MB 11.1 MB/s eta 0:00:00\n",
      "Requirement already satisfied: packaging==21.3 in c:\\users\\user\\anaconda3\\lib\\site-packages (from -r requirements3.txt (line 36)) (21.3)\n",
      "Collecting pandas==1.4.4\n",
      "  Downloading pandas-1.4.4-cp39-cp39-win_amd64.whl (10.6 MB)\n",
      "     --------------------------------------- 10.6/10.6 MB 11.7 MB/s eta 0:00:00\n",
      "Requirement already satisfied: parso==0.8.3 in c:\\users\\user\\anaconda3\\lib\\site-packages (from -r requirements3.txt (line 38)) (0.8.3)\n",
      "Requirement already satisfied: pickleshare==0.7.5 in c:\\users\\user\\anaconda3\\lib\\site-packages (from -r requirements3.txt (line 39)) (0.7.5)\n",
      "Collecting Pillow==9.2.0\n",
      "  Downloading Pillow-9.2.0-cp39-cp39-win_amd64.whl (3.3 MB)\n",
      "     ---------------------------------------- 3.3/3.3 MB 11.6 MB/s eta 0:00:00\n",
      "Collecting prompt-toolkit==3.0.31\n",
      "  Downloading prompt_toolkit-3.0.31-py3-none-any.whl (382 kB)\n",
      "     ------------------------------------- 382.3/382.3 kB 12.0 MB/s eta 0:00:00\n",
      "Collecting protobuf==3.19.5\n",
      "  Downloading protobuf-3.19.5-cp39-cp39-win_amd64.whl (895 kB)\n",
      "     ------------------------------------- 895.9/895.9 kB 11.4 MB/s eta 0:00:00\n",
      "Collecting psutil==5.9.2\n",
      "  Downloading psutil-5.9.2-cp39-cp39-win_amd64.whl (245 kB)\n",
      "     -------------------------------------- 245.9/245.9 kB 7.6 MB/s eta 0:00:00\n",
      "Requirement already satisfied: pure-eval==0.2.2 in c:\\users\\user\\anaconda3\\lib\\site-packages (from -r requirements3.txt (line 44)) (0.2.2)\n",
      "Requirement already satisfied: pyasn1==0.4.8 in c:\\users\\user\\anaconda3\\lib\\site-packages (from -r requirements3.txt (line 45)) (0.4.8)\n",
      "Requirement already satisfied: pyasn1-modules==0.2.8 in c:\\users\\user\\anaconda3\\lib\\site-packages (from -r requirements3.txt (line 46)) (0.2.8)\n",
      "Collecting Pygments==2.13.0\n",
      "  Downloading Pygments-2.13.0-py3-none-any.whl (1.1 MB)\n",
      "     ---------------------------------------- 1.1/1.1 MB 14.0 MB/s eta 0:00:00\n",
      "Collecting pyparsing==3.0.9\n",
      "  Downloading pyparsing-3.0.9-py3-none-any.whl (98 kB)\n",
      "     ---------------------------------------- 98.3/98.3 kB ? eta 0:00:00\n",
      "Requirement already satisfied: python-dateutil==2.8.2 in c:\\users\\user\\anaconda3\\lib\\site-packages (from -r requirements3.txt (line 49)) (2.8.2)\n",
      "Collecting pytz==2022.2.1\n",
      "  Downloading pytz-2022.2.1-py2.py3-none-any.whl (500 kB)\n",
      "     ------------------------------------- 500.6/500.6 kB 15.8 MB/s eta 0:00:00\n",
      "Requirement already satisfied: PyYAML==6.0 in c:\\users\\user\\anaconda3\\lib\\site-packages (from -r requirements3.txt (line 51)) (6.0)\n",
      "Collecting requests-oauthlib==1.3.1\n",
      "  Downloading requests_oauthlib-1.3.1-py2.py3-none-any.whl (23 kB)\n",
      "Collecting rsa==4.9\n",
      "  Downloading rsa-4.9-py3-none-any.whl (34 kB)\n",
      "Collecting scipy==1.9.1\n",
      "  Downloading scipy-1.9.1-cp39-cp39-win_amd64.whl (38.6 MB)\n",
      "     --------------------------------------- 38.6/38.6 MB 11.7 MB/s eta 0:00:00\n",
      "Collecting seaborn==0.12.0\n",
      "  Downloading seaborn-0.12.0-py3-none-any.whl (285 kB)\n",
      "     -------------------------------------- 285.1/285.1 kB 8.9 MB/s eta 0:00:00\n",
      "Collecting stack-data==0.5.0\n",
      "  Downloading stack_data-0.5.0-py3-none-any.whl (24 kB)\n",
      "Collecting tbb==2021.6.0\n",
      "  Downloading tbb-2021.6.0-py3-none-win_amd64.whl (278 kB)\n",
      "     ------------------------------------- 278.1/278.1 kB 16.7 MB/s eta 0:00:00\n",
      "Collecting tensorboard==2.10.0\n",
      "  Downloading tensorboard-2.10.0-py3-none-any.whl (5.9 MB)\n",
      "     ---------------------------------------- 5.9/5.9 MB 11.7 MB/s eta 0:00:00\n",
      "Collecting tensorboard-data-server==0.6.1\n",
      "  Downloading tensorboard_data_server-0.6.1-py3-none-any.whl (2.4 kB)\n",
      "Requirement already satisfied: tensorboard-plugin-wit==1.8.1 in c:\\users\\user\\anaconda3\\lib\\site-packages (from -r requirements3.txt (line 60)) (1.8.1)\n",
      "Collecting thop==0.1.1.post2209072238\n",
      "  Downloading thop-0.1.1.post2209072238-py3-none-any.whl (15 kB)\n",
      "Requirement already satisfied: torch==1.10.1+cu102 in c:\\users\\user\\anaconda3\\lib\\site-packages (from -r requirements3.txt (line 62)) (1.10.1+cu102)\n",
      "Requirement already satisfied: torchaudio==0.10.1+cu113 in c:\\users\\user\\anaconda3\\lib\\site-packages (from -r requirements3.txt (line 63)) (0.10.1+cu113)\n",
      "Requirement already satisfied: torchvision==0.11.2+cu102 in c:\\users\\user\\anaconda3\\lib\\site-packages (from -r requirements3.txt (line 64)) (0.11.2+cu102)\n",
      "Collecting tqdm==4.64.1\n",
      "  Downloading tqdm-4.64.1-py2.py3-none-any.whl (78 kB)\n",
      "     ---------------------------------------- 78.5/78.5 kB ? eta 0:00:00\n",
      "Collecting traitlets==5.4.0\n",
      "  Downloading traitlets-5.4.0-py3-none-any.whl (107 kB)\n",
      "     ---------------------------------------- 107.1/107.1 kB ? eta 0:00:00\n",
      "Collecting urllib3==1.26.12\n",
      "  Downloading urllib3-1.26.12-py2.py3-none-any.whl (140 kB)\n",
      "     -------------------------------------- 140.4/140.4 kB 8.7 MB/s eta 0:00:00\n",
      "Requirement already satisfied: wcwidth==0.2.5 in c:\\users\\user\\anaconda3\\lib\\site-packages (from -r requirements3.txt (line 68)) (0.2.5)\n",
      "Collecting Werkzeug==2.2.2\n",
      "  Downloading Werkzeug-2.2.2-py3-none-any.whl (232 kB)\n",
      "     ------------------------------------- 232.7/232.7 kB 13.9 MB/s eta 0:00:00\n",
      "Requirement already satisfied: wincertstore==0.2 in c:\\users\\user\\anaconda3\\lib\\site-packages (from -r requirements3.txt (line 70)) (0.2)\n",
      "Collecting zipp==3.8.1\n",
      "  Downloading zipp-3.8.1-py3-none-any.whl (5.6 kB)\n",
      "Requirement already satisfied: six in c:\\users\\user\\anaconda3\\lib\\site-packages (from asttokens==2.0.8->-r requirements3.txt (line 2)) (1.16.0)\n",
      "Requirement already satisfied: cffi>=1.0.0 in c:\\users\\user\\anaconda3\\lib\\site-packages (from brotlipy==0.7.0->-r requirements3.txt (line 4)) (1.15.0)\n",
      "Requirement already satisfied: requests>=2.0.0 in c:\\users\\user\\anaconda3\\lib\\site-packages (from requests-oauthlib==1.3.1->-r requirements3.txt (line 52)) (2.27.1)\n",
      "Requirement already satisfied: wheel>=0.26 in c:\\users\\user\\anaconda3\\lib\\site-packages (from tensorboard==2.10.0->-r requirements3.txt (line 58)) (0.37.1)\n",
      "Requirement already satisfied: setuptools>=41.0.0 in c:\\users\\user\\anaconda3\\lib\\site-packages (from tensorboard==2.10.0->-r requirements3.txt (line 58)) (61.2.0)\n",
      "Requirement already satisfied: typing-extensions in c:\\users\\user\\anaconda3\\lib\\site-packages (from torch==1.10.1+cu102->-r requirements3.txt (line 62)) (4.1.1)\n",
      "Requirement already satisfied: pycparser in c:\\users\\user\\anaconda3\\lib\\site-packages (from cffi>=1.0.0->brotlipy==0.7.0->-r requirements3.txt (line 4)) (2.21)\n",
      "Requirement already satisfied: certifi>=2017.4.17 in c:\\users\\user\\anaconda3\\lib\\site-packages (from requests>=2.0.0->requests-oauthlib==1.3.1->-r requirements3.txt (line 52)) (2021.10.8)\n",
      "Collecting requests>=2.0.0\n",
      "  Downloading requests-2.28.1-py3-none-any.whl (62 kB)\n",
      "     ---------------------------------------- 62.8/62.8 kB ? eta 0:00:00\n",
      "Installing collected packages: tbb, pytz, intel-openmp, intel-cmplr-lic-rt, intel-cmplr-lib-rt, executing, zipp, urllib3, traitlets, tensorboard-data-server, rsa, pyparsing, Pygments, psutil, protobuf, prompt-toolkit, Pillow, oauthlib, numpy, mkl, MarkupSafe, kiwisolver, intel-opencl-rt, idna, grpcio, fonttools, colorama, charset-normalizer, cachetools, asttokens, absl-py, Werkzeug, tqdm, thop, stack-data, scipy, requests, pandas, opencv-python, matplotlib-inline, importlib-metadata, google-auth, dpcpp-cpp-rt, contourpy, requests-oauthlib, matplotlib, Markdown, ipython, seaborn, google-auth-oauthlib, tensorboard\n",
      "  Attempting uninstall: tbb\n",
      "    Found existing installation: TBB 0.2\n"
     ]
    }
   ],
   "source": [
    "!pip install -r requirements3.txt"
   ]
  },
  {
   "cell_type": "code",
   "execution_count": 23,
   "id": "518ee07d",
   "metadata": {
    "scrolled": true
   },
   "outputs": [
    {
     "name": "stdout",
     "output_type": "stream",
     "text": [
      "Looking in indexes: https://pypi.org/simple, https://pypi.ngc.nvidia.com\n",
      "Looking in links: https://download.pytorch.org/whl/torch_stable.html\n",
      "Requirement already satisfied: torch==1.10.1+cu102 in c:\\users\\user\\anaconda3\\lib\\site-packages (1.10.1+cu102)\n",
      "Requirement already satisfied: torchvision==0.11.2+cu102 in c:\\users\\user\\anaconda3\\lib\\site-packages (0.11.2+cu102)\n",
      "Requirement already satisfied: torchaudio==0.10.1 in c:\\users\\user\\anaconda3\\lib\\site-packages (0.10.1+cu113)\n",
      "Requirement already satisfied: typing-extensions in c:\\users\\user\\anaconda3\\lib\\site-packages (from torch==1.10.1+cu102) (4.1.1)\n",
      "Requirement already satisfied: numpy in c:\\users\\user\\anaconda3\\lib\\site-packages (from torchvision==0.11.2+cu102) (1.21.5)\n",
      "Requirement already satisfied: pillow!=8.3.0,>=5.3.0 in c:\\users\\user\\anaconda3\\lib\\site-packages (from torchvision==0.11.2+cu102) (9.0.1)\n"
     ]
    },
    {
     "name": "stderr",
     "output_type": "stream",
     "text": [
      "WARNING: Ignore distutils configs in setup.cfg due to encoding errors.\n",
      "WARNING: Ignore distutils configs in setup.cfg due to encoding errors.\n"
     ]
    }
   ],
   "source": [
    "!pip install torch==1.10.1+cu102 torchvision==0.11.2+cu102 torchaudio==0.10.1 -f https://download.pytorch.org/whl/torch_stable.html"
   ]
  },
  {
   "cell_type": "code",
   "execution_count": 6,
   "id": "34947ab5",
   "metadata": {},
   "outputs": [
    {
     "data": {
      "text/plain": [
       "True"
      ]
     },
     "execution_count": 6,
     "metadata": {},
     "output_type": "execute_result"
    }
   ],
   "source": [
    "import torch\n",
    "torch.cuda.is_available()"
   ]
  },
  {
   "cell_type": "markdown",
   "id": "d916d8a4",
   "metadata": {},
   "source": [
    "# Setup paths"
   ]
  },
  {
   "cell_type": "code",
   "execution_count": 29,
   "id": "7f554044",
   "metadata": {},
   "outputs": [],
   "source": [
    "WEIGHTS_PATH = 'yolov5s.pt'\n",
    "CFG_PATH = 'models/yolov5s.yaml'\n",
    "DATA_PATH = 'data/train-traction.yaml'\n",
    "SOURCE_PATH = '../datasets/traction/images/DJI_202208041323_009_NADIR_Poronin/DJI_20220804132704_0075.JPG'\n",
    "BEST_WEIGHTS_PATH = 'runs/train/exp36/weights/best.pt'"
   ]
  },
  {
   "cell_type": "markdown",
   "id": "4ffdcc12",
   "metadata": {},
   "source": [
    "## Training"
   ]
  },
  {
   "cell_type": "code",
   "execution_count": 30,
   "id": "1e2035f8",
   "metadata": {
    "scrolled": true
   },
   "outputs": [
    {
     "name": "stdout",
     "output_type": "stream",
     "text": [
      "\u001b[34m\u001b[1mgithub: \u001b[0mskipping check (not a git repository), for updates see https://github.com/ultralytics/yolov5\n"
     ]
    },
    {
     "name": "stderr",
     "output_type": "stream",
     "text": [
      "\u001b[34m\u001b[1mtrain: \u001b[0mweights=yolov5s.pt, cfg=models/yolov5s.yaml, data=data/train-traction.yaml, hyp=data\\hyps\\hyp.scratch-low.yaml, epochs=2, batch_size=8, imgsz=640, rect=False, resume=False, nosave=False, noval=False, noautoanchor=False, noplots=False, evolve=None, bucket=, cache=None, image_weights=False, device=, multi_scale=False, single_cls=False, optimizer=SGD, sync_bn=False, workers=8, project=runs\\train, name=exp, exist_ok=False, quad=False, cos_lr=False, label_smoothing=0.0, patience=100, freeze=[0], save_period=-1, seed=0, local_rank=-1, entity=None, upload_dataset=False, bbox_interval=-1, artifact_alias=latest\n",
      "YOLOv5  2022-9-16 Python-3.9.12 torch-1.10.1+cu102 CUDA:0 (NVIDIA GeForce GTX 1660 SUPER, 6144MiB)\n",
      "\n",
      "\u001b[34m\u001b[1mhyperparameters: \u001b[0mlr0=0.01, lrf=0.01, momentum=0.937, weight_decay=0.0005, warmup_epochs=3.0, warmup_momentum=0.8, warmup_bias_lr=0.1, box=0.05, cls=0.5, cls_pw=1.0, obj=1.0, obj_pw=1.0, iou_t=0.2, anchor_t=4.0, fl_gamma=0.0, hsv_h=0.015, hsv_s=0.7, hsv_v=0.4, degrees=0.0, translate=0.1, scale=0.5, shear=0.0, perspective=0.0, flipud=0.0, fliplr=0.5, mosaic=1.0, mixup=0.0, copy_paste=0.0\n",
      "\u001b[34m\u001b[1mWeights & Biases: \u001b[0mrun 'pip install wandb' to automatically track and visualize YOLOv5  runs in Weights & Biases\n",
      "\u001b[34m\u001b[1mClearML: \u001b[0mrun 'pip install clearml' to automatically track, visualize and remotely train YOLOv5  in ClearML\n",
      "\u001b[34m\u001b[1mComet: \u001b[0mrun 'pip install comet_ml' to automatically track and visualize YOLOv5  runs in Comet\n",
      "\u001b[34m\u001b[1mTensorBoard: \u001b[0mStart with 'tensorboard --logdir runs\\train', view at http://localhost:6006/\n",
      "Overriding model.yaml nc=80 with nc=1\n",
      "\n",
      "                 from  n    params  module                                  arguments                     \n",
      "  0                -1  1      3520  models.common.Conv                      [3, 32, 6, 2, 2]              \n",
      "  1                -1  1     18560  models.common.Conv                      [32, 64, 3, 2]                \n",
      "  2                -1  1     18816  models.common.C3                        [64, 64, 1]                   \n",
      "  3                -1  1     73984  models.common.Conv                      [64, 128, 3, 2]               \n",
      "  4                -1  2    115712  models.common.C3                        [128, 128, 2]                 \n",
      "  5                -1  1    295424  models.common.Conv                      [128, 256, 3, 2]              \n",
      "  6                -1  3    625152  models.common.C3                        [256, 256, 3]                 \n",
      "  7                -1  1   1180672  models.common.Conv                      [256, 512, 3, 2]              \n",
      "  8                -1  1   1182720  models.common.C3                        [512, 512, 1]                 \n",
      "  9                -1  1    656896  models.common.SPPF                      [512, 512, 5]                 \n",
      " 10                -1  1    131584  models.common.Conv                      [512, 256, 1, 1]              \n",
      " 11                -1  1         0  torch.nn.modules.upsampling.Upsample    [None, 2, 'nearest']          \n",
      " 12           [-1, 6]  1         0  models.common.Concat                    [1]                           \n",
      " 13                -1  1    361984  models.common.C3                        [512, 256, 1, False]          \n",
      " 14                -1  1     33024  models.common.Conv                      [256, 128, 1, 1]              \n",
      " 15                -1  1         0  torch.nn.modules.upsampling.Upsample    [None, 2, 'nearest']          \n",
      " 16           [-1, 4]  1         0  models.common.Concat                    [1]                           \n",
      " 17                -1  1     90880  models.common.C3                        [256, 128, 1, False]          \n",
      " 18                -1  1    147712  models.common.Conv                      [128, 128, 3, 2]              \n",
      " 19          [-1, 14]  1         0  models.common.Concat                    [1]                           \n",
      " 20                -1  1    296448  models.common.C3                        [256, 256, 1, False]          \n",
      " 21                -1  1    590336  models.common.Conv                      [256, 256, 3, 2]              \n",
      " 22          [-1, 10]  1         0  models.common.Concat                    [1]                           \n",
      " 23                -1  1   1182720  models.common.C3                        [512, 512, 1, False]          \n",
      " 24      [17, 20, 23]  1     16182  models.yolo.Detect                      [1, [[10, 13, 16, 30, 33, 23], [30, 61, 62, 45, 59, 119], [116, 90, 156, 198, 373, 326]], [128, 256, 512]]\n",
      "YOLOv5s summary: 214 layers, 7022326 parameters, 7022326 gradients, 15.9 GFLOPs\n",
      "\n",
      "Transferred 342/349 items from yolov5s.pt\n",
      "\u001b[34m\u001b[1mAMP: \u001b[0mchecks passed \n",
      "\u001b[34m\u001b[1moptimizer:\u001b[0m SGD(lr=0.01) with parameter groups 57 weight(decay=0.0), 60 weight(decay=0.0005), 60 bias\n",
      "\n",
      "\u001b[34m\u001b[1mtrain: \u001b[0mScanning 'C:\\Users\\user\\PycharmProjects\\object-detection-yolov5\\datasets\\traction\\train.cache' images and labels... 18 found, 0 missing, 0 empty, 0 corrupt: 100%|##########| 18/18 [00:00<?, ?it/s]\n",
      "\u001b[34m\u001b[1mtrain: \u001b[0mScanning 'C:\\Users\\user\\PycharmProjects\\object-detection-yolov5\\datasets\\traction\\train.cache' images and labels... 18 found, 0 missing, 0 empty, 0 corrupt: 100%|##########| 18/18 [00:00<?, ?it/s]\n",
      "\n",
      "\u001b[34m\u001b[1mval: \u001b[0mScanning 'C:\\Users\\user\\PycharmProjects\\object-detection-yolov5\\datasets\\traction\\val.cache' images and labels... 4 found, 0 missing, 0 empty, 0 corrupt: 100%|##########| 4/4 [00:00<?, ?it/s]\n",
      "\u001b[34m\u001b[1mval: \u001b[0mScanning 'C:\\Users\\user\\PycharmProjects\\object-detection-yolov5\\datasets\\traction\\val.cache' images and labels... 4 found, 0 missing, 0 empty, 0 corrupt: 100%|##########| 4/4 [00:00<?, ?it/s]\n",
      "\n",
      "\u001b[34m\u001b[1mAutoAnchor: \u001b[0m0.98 anchors/target, 0.981 Best Possible Recall (BPR). Current anchors are a good fit to dataset \n",
      "Plotting labels to runs\\train\\exp40\\labels.jpg... \n",
      "Image sizes 640 train, 640 val\n",
      "Using 8 dataloader workers\n",
      "Logging results to \u001b[1mruns\\train\\exp40\u001b[0m\n",
      "Starting training for 2 epochs...\n",
      "\n",
      "      Epoch    GPU_mem   box_loss   obj_loss   cls_loss  Instances       Size\n",
      "\n",
      "  0%|          | 0/3 [00:00<?, ?it/s]\n",
      "        0/1      1.77G      0.125     0.0442          0        108        640:   0%|          | 0/3 [00:02<?, ?it/s]\n",
      "        0/1      1.77G      0.125     0.0442          0        108        640:  33%|###3      | 1/3 [00:03<00:07,  3.91s/it]\n",
      "        0/1      1.84G     0.1302    0.03851          0         89        640:  33%|###3      | 1/3 [00:05<00:07,  3.91s/it]\n",
      "        0/1      1.84G     0.1302    0.03851          0         89        640:  67%|######6   | 2/3 [00:05<00:02,  2.79s/it]\n",
      "        0/1      1.85G     0.1306    0.03948          0         49        640:  67%|######6   | 2/3 [00:06<00:02,  2.79s/it]\n",
      "        0/1      1.85G     0.1306    0.03948          0         49        640: 100%|##########| 3/3 [00:06<00:00,  1.79s/it]\n",
      "        0/1      1.85G     0.1306    0.03948          0         49        640: 100%|##########| 3/3 [00:06<00:00,  2.17s/it]\n",
      "\n",
      "                 Class     Images  Instances          P          R      mAP50   mAP50-95:   0%|          | 0/1 [00:00<?, ?it/s]\n",
      "                 Class     Images  Instances          P          R      mAP50   mAP50-95: 100%|##########| 1/1 [00:00<00:00,  3.61it/s]\n",
      "                 Class     Images  Instances          P          R      mAP50   mAP50-95: 100%|##########| 1/1 [00:00<00:00,  3.61it/s]\n",
      "                   all          4         34    0.00417      0.147     0.0025   0.000588\n",
      "\n",
      "      Epoch    GPU_mem   box_loss   obj_loss   cls_loss  Instances       Size\n",
      "\n",
      "  0%|          | 0/3 [00:00<?, ?it/s]\n",
      "        1/1      1.85G     0.1198    0.04456          0        123        640:   0%|          | 0/3 [00:01<?, ?it/s]\n",
      "        1/1      1.85G     0.1198    0.04456          0        123        640:  33%|###3      | 1/3 [00:01<00:03,  1.98s/it]\n",
      "        1/1      1.85G     0.1206    0.04304          0         99        640:  33%|###3      | 1/3 [00:03<00:03,  1.98s/it]\n",
      "        1/1      1.85G     0.1206    0.04304          0         99        640:  67%|######6   | 2/3 [00:03<00:01,  1.98s/it]\n",
      "        1/1      1.85G     0.1102    0.03945          0         23        640:  67%|######6   | 2/3 [00:04<00:01,  1.98s/it]\n",
      "        1/1      1.85G     0.1102    0.03945          0         23        640: 100%|##########| 3/3 [00:04<00:00,  1.34s/it]\n",
      "        1/1      1.85G     0.1102    0.03945          0         23        640: 100%|##########| 3/3 [00:04<00:00,  1.51s/it]\n",
      "\n",
      "                 Class     Images  Instances          P          R      mAP50   mAP50-95:   0%|          | 0/1 [00:00<?, ?it/s]\n",
      "                 Class     Images  Instances          P          R      mAP50   mAP50-95: 100%|##########| 1/1 [00:00<00:00,  3.69it/s]\n",
      "                 Class     Images  Instances          P          R      mAP50   mAP50-95: 100%|##########| 1/1 [00:00<00:00,  3.69it/s]\n",
      "                   all          4         34    0.00417      0.147    0.00266    0.00031\n",
      "\n",
      "2 epochs completed in 0.003 hours.\n",
      "Optimizer stripped from runs\\train\\exp40\\weights\\last.pt, 14.4MB\n",
      "Optimizer stripped from runs\\train\\exp40\\weights\\best.pt, 14.4MB\n",
      "\n",
      "Validating runs\\train\\exp40\\weights\\best.pt...\n",
      "Fusing layers... \n",
      "YOLOv5s summary: 157 layers, 7012822 parameters, 0 gradients, 15.8 GFLOPs\n",
      "\n",
      "                 Class     Images  Instances          P          R      mAP50   mAP50-95:   0%|          | 0/1 [00:00<?, ?it/s]\n",
      "                 Class     Images  Instances          P          R      mAP50   mAP50-95: 100%|##########| 1/1 [00:00<00:00,  3.73it/s]\n",
      "                 Class     Images  Instances          P          R      mAP50   mAP50-95: 100%|##########| 1/1 [00:00<00:00,  3.73it/s]\n",
      "                   all          4         34      0.005      0.176    0.00314   0.000653\n",
      "Results saved to \u001b[1mruns\\train\\exp40\u001b[0m\n"
     ]
    }
   ],
   "source": [
    "%cd yolov5\n",
    "!python train.py --img 640 --batch 8 --epochs 2 --data {DATA_PATH} --cfg {CFG_PATH} --weights {WEIGHTS_PATH}"
   ]
  },
  {
   "cell_type": "markdown",
   "id": "fe94ff6b",
   "metadata": {},
   "source": [
    "## Detection"
   ]
  },
  {
   "cell_type": "code",
   "execution_count": 31,
   "id": "1d0ff338",
   "metadata": {},
   "outputs": [
    {
     "name": "stdout",
     "output_type": "stream",
     "text": [
      "[WinError 2] Nie można odnaleźć określonego pliku: 'yolov5'\n",
      "C:\\Users\\user\\PycharmProjects\\object-detection-yolov5\\yolov5\n"
     ]
    },
    {
     "name": "stderr",
     "output_type": "stream",
     "text": [
      "\u001b[34m\u001b[1mdetect: \u001b[0mweights=['runs/train/exp36/weights/best.pt'], source=../datasets/traction/images/DJI_202208041323_009_NADIR_Poronin/DJI_20220804132704_0075.JPG, data=data/train-traction.yaml, imgsz=[8192, 5460], conf_thres=0.25, iou_thres=0.45, max_det=1000, device=, view_img=False, save_txt=False, save_conf=False, save_crop=False, nosave=False, classes=None, agnostic_nms=False, augment=False, visualize=False, update=False, project=runs\\detect, name=exp, exist_ok=False, line_thickness=3, hide_labels=False, hide_conf=False, half=False, dnn=False, vid_stride=1\n",
      "YOLOv5  2022-9-16 Python-3.9.12 torch-1.10.1+cu102 CUDA:0 (NVIDIA GeForce GTX 1660 SUPER, 6144MiB)\n",
      "\n",
      "Fusing layers... \n",
      "YOLOv5s summary: 157 layers, 7012822 parameters, 0 gradients, 15.8 GFLOPs\n",
      "WARNING: --img-size [8192, 5460] must be multiple of max stride 32, updating to [8192, 5472]\n",
      "image 1/1 C:\\Users\\user\\PycharmProjects\\object-detection-yolov5\\datasets\\traction\\images\\DJI_202208041323_009_NADIR_Poronin\\DJI_20220804132704_0075.JPG: 3648x5472 64 podklad-betonowys, 267.0ms\n",
      "Speed: 11.0ms pre-process, 267.0ms inference, 10.0ms NMS per image at shape (1, 3, 8192, 5472)\n",
      "Results saved to \u001b[1mruns\\detect\\exp20\u001b[0m\n"
     ]
    }
   ],
   "source": [
    "%cd yolov5\n",
    "!python detect.py --source {SOURCE_PATH} --weights {BEST_WEIGHTS_PATH} --data {DATA_PATH} --imgsz 8192 5460"
   ]
  },
  {
   "cell_type": "code",
   "execution_count": null,
   "id": "2d683876",
   "metadata": {},
   "outputs": [],
   "source": []
  }
 ],
 "metadata": {
  "kernelspec": {
   "display_name": "yolov5",
   "language": "python",
   "name": "yolov5"
  },
  "language_info": {
   "codemirror_mode": {
    "name": "ipython",
    "version": 3
   },
   "file_extension": ".py",
   "mimetype": "text/x-python",
   "name": "python",
   "nbconvert_exporter": "python",
   "pygments_lexer": "ipython3",
   "version": "3.9.13"
  }
 },
 "nbformat": 4,
 "nbformat_minor": 5
}
